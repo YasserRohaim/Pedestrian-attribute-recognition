{
  "cells": [
    {
      "cell_type": "code",
      "execution_count": 1,
      "metadata": {
        "id": "MzS0Lgd0YZ6g"
      },
      "outputs": [
        {
          "name": "stderr",
          "output_type": "stream",
          "text": [
            "2025-06-04 19:42:04.673075: E external/local_xla/xla/stream_executor/cuda/cuda_fft.cc:467] Unable to register cuFFT factory: Attempting to register factory for plugin cuFFT when one has already been registered\n",
            "WARNING: All log messages before absl::InitializeLog() is called are written to STDERR\n",
            "E0000 00:00:1749055324.689922    8553 cuda_dnn.cc:8579] Unable to register cuDNN factory: Attempting to register factory for plugin cuDNN when one has already been registered\n",
            "E0000 00:00:1749055324.694490    8553 cuda_blas.cc:1407] Unable to register cuBLAS factory: Attempting to register factory for plugin cuBLAS when one has already been registered\n",
            "W0000 00:00:1749055324.706948    8553 computation_placer.cc:177] computation placer already registered. Please check linkage and avoid linking the same target more than once.\n",
            "W0000 00:00:1749055324.706968    8553 computation_placer.cc:177] computation placer already registered. Please check linkage and avoid linking the same target more than once.\n",
            "W0000 00:00:1749055324.706969    8553 computation_placer.cc:177] computation placer already registered. Please check linkage and avoid linking the same target more than once.\n",
            "W0000 00:00:1749055324.706970    8553 computation_placer.cc:177] computation placer already registered. Please check linkage and avoid linking the same target more than once.\n",
            "2025-06-04 19:42:04.711108: I tensorflow/core/platform/cpu_feature_guard.cc:210] This TensorFlow binary is optimized to use available CPU instructions in performance-critical operations.\n",
            "To enable the following instructions: AVX2 FMA, in other operations, rebuild TensorFlow with the appropriate compiler flags.\n"
          ]
        }
      ],
      "source": [
        "\n",
        "import os\n",
        "import pandas as pd\n",
        "from PIL import Image\n",
        "import tf_keras as keras\n",
        "import numpy as np\n",
        "import tensorflow as tf\n",
        "from sklearn.model_selection import train_test_split\n",
        "\n"
      ]
    },
    {
      "cell_type": "code",
      "execution_count": 2,
      "metadata": {
        "id": "0fQjT_-5Q5lx"
      },
      "outputs": [],
      "source": [
        "LABEL_GROUPS = {\n",
        "    \"age_gender\": ['Female', 'AgeOver60', 'Age18-60', 'AgeLess18'],\n",
        "    \"view\": ['Front', 'Side', 'Back'],\n",
        "    \"accessories\": ['Hat', 'Glasses', 'HandBag', 'ShoulderBag', 'Backpack', 'HoldObjectsInFront'],\n",
        "    \"upper_clothing\": ['ShortSleeve', 'LongSleeve', 'UpperStride', 'UpperLogo', 'UpperPlaid', 'UpperSplice', 'LongCoat'],\n",
        "    \"lower_clothing\": ['LowerStripe', 'LowerPattern', 'Trousers', 'Shorts', 'Skirt&Dress', 'boots'],\n",
        "}\n",
        "\n",
        "class ImageDatasetTF:\n",
        "    def __init__(self, dataframe: pd.DataFrame, img_folder: str, label_group: list, image_size=(128, 256), transform=None):\n",
        "        self.data = dataframe\n",
        "        self.img_folder = img_folder\n",
        "        self.image_size = image_size\n",
        "        self.transform = transform\n",
        "\n",
        "        self.label_columns = label_group\n",
        "        self.data = self.data[[\"Image\"] + self.label_columns]  # Keep only relevant columns\n",
        "\n",
        "    def __len__(self):\n",
        "        return len(self.data)\n",
        "\n",
        "    def __getitem__(self, idx):\n",
        "        img_name = self.data.iloc[idx][\"Image\"]\n",
        "        img_path = os.path.join(self.img_folder, img_name)\n",
        "        image = Image.open(img_path).convert('RGB').resize(self.image_size)\n",
        "\n",
        "        if self.transform:\n",
        "            image = self.transform(image)\n",
        "        else:\n",
        "            image = np.array(image, dtype=np.float32) / 255.0  # Normalize to [0, 1]\n",
        "\n",
        "        label = self.data.iloc[idx][self.label_columns].values.astype(np.float32)\n",
        "        return image, label\n",
        "\n",
        "    def generator(self):\n",
        "        for i in range(len(self)):\n",
        "            yield self[i]\n"
      ]
    },
    {
      "cell_type": "code",
      "execution_count": 3,
      "metadata": {
        "id": "cZtLzNMkQoDi"
      },
      "outputs": [],
      "source": [
        "train=pd.read_csv(\"PA-100K/train.csv\")\n",
        "validate= pd.read_csv(\"PA-100K/val.csv\")\n",
        "test=pd.read_csv(\"PA-100K/test.csv\")\n",
        "\n",
        "age_gender_labels = LABEL_GROUPS[\"age_gender\"]\n",
        "upper_clothing_labels = LABEL_GROUPS[\"upper_clothing\"]\n",
        "\n",
        "\n",
        "age_train = ImageDatasetTF(train,\"PA-100K/data\", age_gender_labels)\n",
        "age_validation = ImageDatasetTF(validate,\"PA-100K/data\", age_gender_labels)\n",
        "age_test= ImageDatasetTF(test,\"PA-100K/data/\", age_gender_labels)\n",
        "\n",
        "\n",
        "upper_clothing_train = ImageDatasetTF(train, \"PA-100K/data\", upper_clothing_labels)\n",
        "upper_clothing_validate= ImageDatasetTF(train, \"PA-100K/data\", upper_clothing_labels)\n",
        "upper_clothing_test= ImageDatasetTF(train, \"PA-100K/data\", upper_clothing_labels)\n",
        "\n",
        "\n",
        "\n"
      ]
    },
    {
      "cell_type": "code",
      "execution_count": 4,
      "metadata": {
        "id": "ozcdmVSaenSY"
      },
      "outputs": [
        {
          "name": "stderr",
          "output_type": "stream",
          "text": [
            "I0000 00:00:1749055343.051317    8553 gpu_device.cc:2019] Created device /job:localhost/replica:0/task:0/device:GPU:0 with 4149 MB memory:  -> device: 0, name: NVIDIA GeForce RTX 3060 Laptop GPU, pci bus id: 0000:01:00.0, compute capability: 8.6\n"
          ]
        }
      ],
      "source": [
        "\n",
        "\n",
        "input_t=keras.Input(shape=(256,128,3))\n",
        "efficient_model=keras.applications.efficientnet_v2.EfficientNetV2B3(include_top=False,weights='imagenet',input_tensor=input_t)"
      ]
    },
    {
      "cell_type": "code",
      "execution_count": 5,
      "metadata": {
        "id": "bWMOKOPag0xg"
      },
      "outputs": [],
      "source": [
        "\n",
        "for layer in efficient_model.layers[:390]:\n",
        "  layer.trainable=False\n",
        "model=keras.models.Sequential()\n",
        "model.add(efficient_model)\n",
        "model.add(keras.layers.GlobalAveragePooling2D())\n",
        "model.add(keras.layers.Dense(1024, activation='relu'))\n",
        "model.add(keras.layers.Dense(4,activation='sigmoid'))"
      ]
    },
    {
      "cell_type": "code",
      "execution_count": 7,
      "metadata": {},
      "outputs": [
        {
          "ename": "ValueError",
          "evalue": "Failed to find data adapter that can handle input: <class '__main__.ImageDatasetTF'>, <class 'NoneType'>",
          "output_type": "error",
          "traceback": [
            "\u001b[31m---------------------------------------------------------------------------\u001b[39m",
            "\u001b[31mValueError\u001b[39m                                Traceback (most recent call last)",
            "\u001b[36mCell\u001b[39m\u001b[36m \u001b[39m\u001b[32mIn[7]\u001b[39m\u001b[32m, line 3\u001b[39m\n\u001b[32m      1\u001b[39m optimizer= keras.optimizers.Adam(learning_rate=\u001b[32m1e-5\u001b[39m)\n\u001b[32m      2\u001b[39m model.compile(optimizer=optimizer, loss=keras.losses.BinaryCrossentropy(), metrics=[\u001b[33m'\u001b[39m\u001b[33maccuracy\u001b[39m\u001b[33m'\u001b[39m])\n\u001b[32m----> \u001b[39m\u001b[32m3\u001b[39m \u001b[43mmodel\u001b[49m\u001b[43m.\u001b[49m\u001b[43mfit\u001b[49m\u001b[43m(\u001b[49m\u001b[43mage_train\u001b[49m\u001b[43m,\u001b[49m\u001b[43m \u001b[49m\u001b[43mepochs\u001b[49m\u001b[43m=\u001b[49m\u001b[32;43m50\u001b[39;49m\u001b[43m \u001b[49m\u001b[43m)\u001b[49m\n",
            "\u001b[36mFile \u001b[39m\u001b[32m~/Projects/General_ML/venv/lib/python3.12/site-packages/tf_keras/src/utils/traceback_utils.py:70\u001b[39m, in \u001b[36mfilter_traceback.<locals>.error_handler\u001b[39m\u001b[34m(*args, **kwargs)\u001b[39m\n\u001b[32m     67\u001b[39m     filtered_tb = _process_traceback_frames(e.__traceback__)\n\u001b[32m     68\u001b[39m     \u001b[38;5;66;03m# To get the full stack trace, call:\u001b[39;00m\n\u001b[32m     69\u001b[39m     \u001b[38;5;66;03m# `tf.debugging.disable_traceback_filtering()`\u001b[39;00m\n\u001b[32m---> \u001b[39m\u001b[32m70\u001b[39m     \u001b[38;5;28;01mraise\u001b[39;00m e.with_traceback(filtered_tb) \u001b[38;5;28;01mfrom\u001b[39;00m\u001b[38;5;250m \u001b[39m\u001b[38;5;28;01mNone\u001b[39;00m\n\u001b[32m     71\u001b[39m \u001b[38;5;28;01mfinally\u001b[39;00m:\n\u001b[32m     72\u001b[39m     \u001b[38;5;28;01mdel\u001b[39;00m filtered_tb\n",
            "\u001b[36mFile \u001b[39m\u001b[32m~/Projects/General_ML/venv/lib/python3.12/site-packages/tf_keras/src/engine/data_adapter.py:1102\u001b[39m, in \u001b[36mselect_data_adapter\u001b[39m\u001b[34m(x, y)\u001b[39m\n\u001b[32m   1099\u001b[39m adapter_cls = [\u001b[38;5;28mcls\u001b[39m \u001b[38;5;28;01mfor\u001b[39;00m \u001b[38;5;28mcls\u001b[39m \u001b[38;5;129;01min\u001b[39;00m ALL_ADAPTER_CLS \u001b[38;5;28;01mif\u001b[39;00m \u001b[38;5;28mcls\u001b[39m.can_handle(x, y)]\n\u001b[32m   1100\u001b[39m \u001b[38;5;28;01mif\u001b[39;00m \u001b[38;5;129;01mnot\u001b[39;00m adapter_cls:\n\u001b[32m   1101\u001b[39m     \u001b[38;5;66;03m# TODO(scottzhu): This should be a less implementation-specific error.\u001b[39;00m\n\u001b[32m-> \u001b[39m\u001b[32m1102\u001b[39m     \u001b[38;5;28;01mraise\u001b[39;00m \u001b[38;5;167;01mValueError\u001b[39;00m(\n\u001b[32m   1103\u001b[39m         \u001b[33m\"\u001b[39m\u001b[33mFailed to find data adapter that can handle input: \u001b[39m\u001b[38;5;132;01m{}\u001b[39;00m\u001b[33m, \u001b[39m\u001b[38;5;132;01m{}\u001b[39;00m\u001b[33m\"\u001b[39m.format(\n\u001b[32m   1104\u001b[39m             _type_name(x), _type_name(y)\n\u001b[32m   1105\u001b[39m         )\n\u001b[32m   1106\u001b[39m     )\n\u001b[32m   1107\u001b[39m \u001b[38;5;28;01melif\u001b[39;00m \u001b[38;5;28mlen\u001b[39m(adapter_cls) > \u001b[32m1\u001b[39m:\n\u001b[32m   1108\u001b[39m     \u001b[38;5;28;01mraise\u001b[39;00m \u001b[38;5;167;01mRuntimeError\u001b[39;00m(\n\u001b[32m   1109\u001b[39m         \u001b[33m\"\u001b[39m\u001b[33mData adapters should be mutually exclusive for \u001b[39m\u001b[33m\"\u001b[39m\n\u001b[32m   1110\u001b[39m         \u001b[33m\"\u001b[39m\u001b[33mhandling inputs. Found multiple adapters \u001b[39m\u001b[38;5;132;01m{}\u001b[39;00m\u001b[33m to handle \u001b[39m\u001b[33m\"\u001b[39m\n\u001b[32m   1111\u001b[39m         \u001b[33m\"\u001b[39m\u001b[33minput: \u001b[39m\u001b[38;5;132;01m{}\u001b[39;00m\u001b[33m, \u001b[39m\u001b[38;5;132;01m{}\u001b[39;00m\u001b[33m\"\u001b[39m.format(adapter_cls, _type_name(x), _type_name(y))\n\u001b[32m   1112\u001b[39m     )\n",
            "\u001b[31mValueError\u001b[39m: Failed to find data adapter that can handle input: <class '__main__.ImageDatasetTF'>, <class 'NoneType'>"
          ]
        }
      ],
      "source": [
        "optimizer= keras.optimizers.Adam(learning_rate=1e-5)\n",
        "model.compile(optimizer=optimizer, loss=keras.losses.BinaryCrossentropy(), metrics=['accuracy'])\n",
        "model.fit(age_train, epochs=50 )"
      ]
    },
    {
      "cell_type": "code",
      "execution_count": null,
      "metadata": {
        "colab": {
          "base_uri": "https://localhost:8080/"
        },
        "id": "rzNCBx5EmpYw",
        "outputId": "15e021b4-01a2-434b-cf88-d7a24e77eaeb"
      },
      "outputs": [
        {
          "name": "stdout",
          "output_type": "stream",
          "text": [
            "Epoch 1/50\n",
            "   1250/Unknown - 315s 252ms/step - loss: 0.3196 - accuracy: 0.4779"
          ]
        }
      ],
      "source": [
        "res_model=keras.applications.ResNet152V2(include_top=False, input_tensor=input_t)\n",
        "for layer in res_model.layers[:-14]:\n",
        "    layer.trainable=False\n",
        "optimizer = keras.optimizers.Adam(learning_rate=3e-3)\n",
        "model2 = keras.models.Sequential([\n",
        "    res_model,\n",
        "    keras.layers.GlobalAveragePooling2D(),  # Critical!\n",
        "    keras.layers.BatchNormalization(),\n",
        "    keras.layers.Dense(1024, activation='relu'),\n",
        "    keras.layers.Dropout(0.5),\n",
        "    keras.layers.BatchNormalization(),\n",
        "    keras.layers.Dense(26, activation='sigmoid')\n",
        "   \n",
        "])\n",
        "early_stopping = tf.keras.callbacks.EarlyStopping(monitor='val_loss', patience=5)\n",
        "model2.compile(optimizer=optimizer,loss=keras.losses.BinaryCrossentropy(),  metrics=['binary_accuracy', keras.metrics.AUC(), keras.metrics.Precision(), keras.metrics.Recall()])\n",
        "model.fit(train_dataset,validation_data= test_dataset, epochs=50)"
      ]
    },
    {
      "cell_type": "code",
      "execution_count": null,
      "metadata": {},
      "outputs": [],
      "source": [
        "model_checkpoint = keras.callbacks.ModelCheckpoint(\n",
        "    'best_model.h5', monitor='val_loss', save_best_only=True\n",
        ")\n"
      ]
    },
    {
      "cell_type": "code",
      "execution_count": 2,
      "metadata": {
        "colab": {
          "base_uri": "https://localhost:8080/",
          "height": 435
        },
        "id": "0DMes-E9XJc_",
        "outputId": "961a2ff6-1615-4369-8fd0-7a4260334dca"
      },
      "outputs": [
        {
          "name": "stdout",
          "output_type": "stream",
          "text": [
            "2.19.0\n",
            "[PhysicalDevice(name='/physical_device:GPU:0', device_type='GPU')]\n"
          ]
        }
      ],
      "source": [
        "\n",
        "print(tf.__version__)\n",
        "print(tf.config.list_physical_devices('GPU'))\n"
      ]
    },
    {
      "cell_type": "code",
      "execution_count": null,
      "metadata": {
        "id": "MEPIhdaTnVvg"
      },
      "outputs": [
        {
          "name": "stdout",
          "output_type": "stream",
          "text": [
            "Num GPUs Available: 1\n",
            "WARNING:tensorflow:From /tmp/ipykernel_5277/383698224.py:2: is_gpu_available (from tensorflow.python.framework.test_util) is deprecated and will be removed in a future version.\n",
            "Instructions for updating:\n",
            "Use `tf.config.list_physical_devices('GPU')` instead.\n"
          ]
        },
        {
          "ename": "RuntimeError",
          "evalue": "cudaGetDevice() failed. Status: CUDA driver version is insufficient for CUDA runtime version",
          "output_type": "error",
          "traceback": [
            "\u001b[31m---------------------------------------------------------------------------\u001b[39m",
            "\u001b[31mRuntimeError\u001b[39m                              Traceback (most recent call last)",
            "\u001b[36mCell\u001b[39m\u001b[36m \u001b[39m\u001b[32mIn[3]\u001b[39m\u001b[32m, line 2\u001b[39m\n\u001b[32m      1\u001b[39m \u001b[38;5;28mprint\u001b[39m(\u001b[33m\"\u001b[39m\u001b[33mNum GPUs Available:\u001b[39m\u001b[33m\"\u001b[39m, \u001b[38;5;28mlen\u001b[39m(tf.config.list_physical_devices(\u001b[33m'\u001b[39m\u001b[33mGPU\u001b[39m\u001b[33m'\u001b[39m)))\n\u001b[32m----> \u001b[39m\u001b[32m2\u001b[39m \u001b[38;5;28mprint\u001b[39m(\u001b[33m\"\u001b[39m\u001b[33mUsing GPU:\u001b[39m\u001b[33m\"\u001b[39m, \u001b[43mtf\u001b[49m\u001b[43m.\u001b[49m\u001b[43mtest\u001b[49m\u001b[43m.\u001b[49m\u001b[43mis_gpu_available\u001b[49m\u001b[43m(\u001b[49m\u001b[43m)\u001b[49m)\n",
            "\u001b[36mFile \u001b[39m\u001b[32m~/Projects/General_ML/venv/lib/python3.12/site-packages/tensorflow/python/util/deprecation.py:383\u001b[39m, in \u001b[36mdeprecated.<locals>.deprecated_wrapper.<locals>.new_func\u001b[39m\u001b[34m(*args, **kwargs)\u001b[39m\n\u001b[32m    375\u001b[39m         _PRINTED_WARNING[\u001b[38;5;28mcls\u001b[39m] = \u001b[38;5;28;01mTrue\u001b[39;00m\n\u001b[32m    376\u001b[39m     _log_deprecation(\n\u001b[32m    377\u001b[39m         \u001b[33m'\u001b[39m\u001b[33mFrom \u001b[39m\u001b[38;5;132;01m%s\u001b[39;00m\u001b[33m: \u001b[39m\u001b[38;5;132;01m%s\u001b[39;00m\u001b[33m (from \u001b[39m\u001b[38;5;132;01m%s\u001b[39;00m\u001b[33m) is deprecated and will be removed \u001b[39m\u001b[38;5;132;01m%s\u001b[39;00m\u001b[33m.\u001b[39m\u001b[38;5;130;01m\\n\u001b[39;00m\u001b[33m'\u001b[39m\n\u001b[32m    378\u001b[39m         \u001b[33m'\u001b[39m\u001b[33mInstructions for updating:\u001b[39m\u001b[38;5;130;01m\\n\u001b[39;00m\u001b[38;5;132;01m%s\u001b[39;00m\u001b[33m'\u001b[39m, _call_location(),\n\u001b[32m   (...)\u001b[39m\u001b[32m    381\u001b[39m         \u001b[33m'\u001b[39m\u001b[33min a future version\u001b[39m\u001b[33m'\u001b[39m \u001b[38;5;28;01mif\u001b[39;00m date \u001b[38;5;129;01mis\u001b[39;00m \u001b[38;5;28;01mNone\u001b[39;00m \u001b[38;5;28;01melse\u001b[39;00m (\u001b[33m'\u001b[39m\u001b[33mafter \u001b[39m\u001b[38;5;132;01m%s\u001b[39;00m\u001b[33m'\u001b[39m % date),\n\u001b[32m    382\u001b[39m         instructions)\n\u001b[32m--> \u001b[39m\u001b[32m383\u001b[39m \u001b[38;5;28;01mreturn\u001b[39;00m \u001b[43mfunc\u001b[49m\u001b[43m(\u001b[49m\u001b[43m*\u001b[49m\u001b[43margs\u001b[49m\u001b[43m,\u001b[49m\u001b[43m \u001b[49m\u001b[43m*\u001b[49m\u001b[43m*\u001b[49m\u001b[43mkwargs\u001b[49m\u001b[43m)\u001b[49m\n",
            "\u001b[36mFile \u001b[39m\u001b[32m~/Projects/General_ML/venv/lib/python3.12/site-packages/tensorflow/python/framework/test_util.py:2118\u001b[39m, in \u001b[36mis_gpu_available\u001b[39m\u001b[34m(***failed resolving arguments***)\u001b[39m\n\u001b[32m   2115\u001b[39m \u001b[38;5;28;01mdel\u001b[39;00m cuda_only\n\u001b[32m   2117\u001b[39m \u001b[38;5;28;01mtry\u001b[39;00m:\n\u001b[32m-> \u001b[39m\u001b[32m2118\u001b[39m   \u001b[38;5;28;01mfor\u001b[39;00m local_device \u001b[38;5;129;01min\u001b[39;00m \u001b[43mdevice_lib\u001b[49m\u001b[43m.\u001b[49m\u001b[43mlist_local_devices\u001b[49m\u001b[43m(\u001b[49m\u001b[43m)\u001b[49m:\n\u001b[32m   2119\u001b[39m     \u001b[38;5;28;01mif\u001b[39;00m local_device.device_type == \u001b[33m\"\u001b[39m\u001b[33mGPU\u001b[39m\u001b[33m\"\u001b[39m:\n\u001b[32m   2120\u001b[39m       gpu_info = gpu_util.compute_capability_from_device_desc(local_device)\n",
            "\u001b[36mFile \u001b[39m\u001b[32m~/Projects/General_ML/venv/lib/python3.12/site-packages/tensorflow/python/client/device_lib.py:41\u001b[39m, in \u001b[36mlist_local_devices\u001b[39m\u001b[34m(session_config)\u001b[39m\n\u001b[32m     38\u001b[39m \u001b[38;5;28;01mif\u001b[39;00m session_config \u001b[38;5;129;01mis\u001b[39;00m \u001b[38;5;129;01mnot\u001b[39;00m \u001b[38;5;28;01mNone\u001b[39;00m:\n\u001b[32m     39\u001b[39m   serialized_config = session_config.SerializeToString()\n\u001b[32m     40\u001b[39m \u001b[38;5;28;01mreturn\u001b[39;00m [\n\u001b[32m---> \u001b[39m\u001b[32m41\u001b[39m     _convert(s) \u001b[38;5;28;01mfor\u001b[39;00m s \u001b[38;5;129;01min\u001b[39;00m \u001b[43m_pywrap_device_lib\u001b[49m\u001b[43m.\u001b[49m\u001b[43mlist_devices\u001b[49m\u001b[43m(\u001b[49m\u001b[43mserialized_config\u001b[49m\u001b[43m)\u001b[49m\n\u001b[32m     42\u001b[39m ]\n",
            "\u001b[31mRuntimeError\u001b[39m: cudaGetDevice() failed. Status: CUDA driver version is insufficient for CUDA runtime version"
          ]
        }
      ],
      "source": []
    },
    {
      "cell_type": "code",
      "execution_count": 4,
      "metadata": {},
      "outputs": [
        {
          "name": "stdout",
          "output_type": "stream",
          "text": [
            "Index(['Image', 'Female', 'AgeOver60', 'Age18-60', 'AgeLess18', 'Front',\n",
            "       'Side', 'Back', 'Hat', 'Glasses', 'HandBag', 'ShoulderBag', 'Backpack',\n",
            "       'HoldObjectsInFront', 'ShortSleeve', 'LongSleeve', 'UpperStride',\n",
            "       'UpperLogo', 'UpperPlaid', 'UpperSplice', 'LowerStripe', 'LowerPattern',\n",
            "       'LongCoat', 'Trousers', 'Shorts', 'Skirt&Dress', 'boots'],\n",
            "      dtype='object')\n"
          ]
        }
      ],
      "source": [
        "df= pd.read_csv(\"PA-100K/train.csv\")\n",
        "print(df.columns)\n"
      ]
    },
    {
      "cell_type": "code",
      "execution_count": null,
      "metadata": {},
      "outputs": [],
      "source": []
    }
  ],
  "metadata": {
    "colab": {
      "provenance": []
    },
    "kernelspec": {
      "display_name": "venv",
      "language": "python",
      "name": "python3"
    },
    "language_info": {
      "codemirror_mode": {
        "name": "ipython",
        "version": 3
      },
      "file_extension": ".py",
      "mimetype": "text/x-python",
      "name": "python",
      "nbconvert_exporter": "python",
      "pygments_lexer": "ipython3",
      "version": "3.12.3"
    }
  },
  "nbformat": 4,
  "nbformat_minor": 0
}
